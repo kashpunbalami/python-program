{
  "nbformat": 4,
  "nbformat_minor": 0,
  "metadata": {
    "colab": {
      "provenance": [],
      "include_colab_link": true
    },
    "kernelspec": {
      "name": "python3",
      "display_name": "Python 3"
    },
    "language_info": {
      "name": "python"
    }
  },
  "cells": [
    {
      "cell_type": "markdown",
      "metadata": {
        "id": "view-in-github",
        "colab_type": "text"
      },
      "source": [
        "<a href=\"https://colab.research.google.com/github/kashpunbalami/python-program/blob/main/PrettyClick_Makeup_Management_System.ipynb\" target=\"_parent\"><img src=\"https://colab.research.google.com/assets/colab-badge.svg\" alt=\"Open In Colab\"/></a>"
      ]
    },
    {
      "cell_type": "code",
      "execution_count": null,
      "metadata": {
        "id": "FG7JY-TNt6Xk"
      },
      "outputs": [],
      "source": [
        "class MakeupProduct:\n",
        "  def __init__(self, name, category, price, stock):\n",
        "    self.name = name\n",
        "    self.category = category\n",
        "    self.price = price\n",
        "    self.stock = stock\n",
        "\n",
        "  def is_available(self, quantity):\n",
        "    return self.stock >= quantity\n",
        "\n",
        "  def reduce_stock(self, quantity):\n",
        "    if self.is_available(quantity):\n",
        "      self.stock -= quantity\n",
        "    else:\n",
        "      raise ValueError(f'Only {self.stock} units of {self.name} are available.')\n",
        "\n",
        "  def __str__(self):\n",
        "    return f\"{self.name} ({self.category}) - NPR {self.price} | Stock: {self.stock}\"\n",
        "\n",
        "\n",
        "class PrettyClick:\n",
        "  def __init__(self):\n",
        "    self.products = []\n",
        "\n",
        "  def add_product(self, product):\n",
        "    self.products.append(product)\n",
        "\n",
        "  def view_products(self):\n",
        "    print(\"Available Products:\")\n",
        "    for product in self.products:\n",
        "      print(product)\n",
        "    print()\n",
        "\n",
        "  def search_by_category(self, category):\n",
        "    print(f\"Products in category '{category}':\")\n",
        "    for product in self.products:\n",
        "      if product.category.lower() == category.lower():\n",
        "        print(product)\n",
        "    print()\n",
        "\n",
        "  def buy_products(self, product_name, quantity):\n",
        "    for product in self.products:\n",
        "      if product.name.lower() == product_name.lower():\n",
        "        if product.is_available(quantity):\n",
        "          product.reduce_stock(quantity)\n",
        "          print(f\"Purchased {quantity} * {product.name}\")\n",
        "          return product.price * quantity\n",
        "        else:\n",
        "          print(f\"Not enough stock for {product.name}.\")\n",
        "          return 0\n",
        "    print(f\"Product '{product_name}' not found\")\n",
        "    return 0\n",
        "\n",
        "\n",
        "  def generate_bill(self, purchases):\n",
        "    print(\"\\n----- Aliza&Kusum PrettyClick Store\")\n",
        "    total = 0\n",
        "    for product_name, quantity in purchases.items():\n",
        "      cost = self.buy_products(product_name, quantity)\n",
        "      if cost > 0:\n",
        "        total += cost\n",
        "    print(f\"Customer your Total Amount: NPR {total}\\n\")\n",
        "    print(\"Thank you for shopping with us!\")\n",
        "    print(\"----- Aliza&Kusum PrettyClick Store\")\n"
      ]
    },
    {
      "cell_type": "code",
      "source": [
        "store = PrettyClick()"
      ],
      "metadata": {
        "id": "9H_7SJvT1h2S"
      },
      "execution_count": null,
      "outputs": []
    },
    {
      "cell_type": "code",
      "source": [
        "store.add_product(MakeupProduct(\"Maybelline SuperStay Lipstick\", \"Lipstick\", 1200, 15))\n",
        "store.add_product(MakeupProduct(\"L'Oréal Paris True Match Foundation\", \"Foundation\", 1800, 10))\n",
        "store.add_product(MakeupProduct(\"Lakme Absolute Shine Eyeliner\", \"Eyeliner\", 400, 20))\n",
        "store.add_product(MakeupProduct(\"Neutrogena Hydro Boost Gel Cream\", \"Skincare\", 2500, 8))\n",
        "store.add_product(MakeupProduct(\"The Ordinary Niacinamide Serum\", \"Skincare\", 2300, 12))\n",
        "store.add_product(MakeupProduct(\"Revlon Ultra HD Matte Lipcolor\", \"Lipstick\", 1300, 18))\n",
        "store.add_product(MakeupProduct(\"MAC Studio Fix Fluid Foundation\", \"Foundation\", 4200, 6))\n",
        "store.add_product(MakeupProduct(\"Himalaya Purifying Neem Face Wash\", \"Skincare\", 350, 25))\n",
        "store.add_product(MakeupProduct(\"Garnier Bright Complete Vitamin C Serum\", \"Skincare\", 900, 20))\n",
        "store.add_product(MakeupProduct(\"Wet n Wild MegaGlow Highlighter\", \"Highlighter\", 600, 14))"
      ],
      "metadata": {
        "id": "DkjViyYE1n4U"
      },
      "execution_count": null,
      "outputs": []
    },
    {
      "cell_type": "code",
      "source": [
        "store.view_products()"
      ],
      "metadata": {
        "colab": {
          "base_uri": "https://localhost:8080/"
        },
        "id": "hVc4BC6T18EH",
        "outputId": "3c4b4edd-5cac-40c1-d063-56d64cdd682a"
      },
      "execution_count": null,
      "outputs": [
        {
          "output_type": "stream",
          "name": "stdout",
          "text": [
            "Available Products:\n",
            "Maybelline SuperStay Lipstick (Lipstick) - NPR 1200 | Stock: 15\n",
            "L'Oréal Paris True Match Foundation (Foundation) - NPR 1800 | Stock: 10\n",
            "Lakme Absolute Shine Eyeliner (Eyeliner) - NPR 400 | Stock: 20\n",
            "Neutrogena Hydro Boost Gel Cream (Skincare) - NPR 2500 | Stock: 8\n",
            "The Ordinary Niacinamide Serum (Skincare) - NPR 2300 | Stock: 12\n",
            "Revlon Ultra HD Matte Lipcolor (Lipstick) - NPR 1300 | Stock: 18\n",
            "MAC Studio Fix Fluid Foundation (Foundation) - NPR 4200 | Stock: 6\n",
            "Himalaya Purifying Neem Face Wash (Skincare) - NPR 350 | Stock: 25\n",
            "Garnier Bright Complete Vitamin C Serum (Skincare) - NPR 900 | Stock: 20\n",
            "Wet n Wild MegaGlow Highlighter (Highlighter) - NPR 600 | Stock: 14\n",
            "\n"
          ]
        }
      ]
    },
    {
      "cell_type": "code",
      "source": [
        "store.search_by_category(\"Lipstick\")"
      ],
      "metadata": {
        "colab": {
          "base_uri": "https://localhost:8080/"
        },
        "id": "PUPKCAqG1_El",
        "outputId": "f9bf67e0-54da-45af-c41e-9537c1be3199"
      },
      "execution_count": null,
      "outputs": [
        {
          "output_type": "stream",
          "name": "stdout",
          "text": [
            "Products in category 'Lipstick':\n",
            "Maybelline SuperStay Lipstick (Lipstick) - NPR 1200 | Stock: 15\n",
            "Revlon Ultra HD Matte Lipcolor (Lipstick) - NPR 1300 | Stock: 18\n",
            "\n"
          ]
        }
      ]
    },
    {
      "cell_type": "code",
      "source": [
        "purchases = {\"Lakme Absolute Shine Eyeliner\":2, \"Himalaya Purifying Neem Face Wash\": 3, \"Wet n Wild MegaGlow Highlighter\": 1}\n",
        "store.generate_bill(purchases)"
      ],
      "metadata": {
        "colab": {
          "base_uri": "https://localhost:8080/"
        },
        "id": "ZRHOb3i72Eu8",
        "outputId": "7256448a-50de-4b54-df9a-c698d521735a"
      },
      "execution_count": null,
      "outputs": [
        {
          "output_type": "stream",
          "name": "stdout",
          "text": [
            "\n",
            "----- Aliza&Kusum PrettyClick Store\n",
            "Purchased 2 * Lakme Absolute Shine Eyeliner\n",
            "Purchased 3 * Himalaya Purifying Neem Face Wash\n",
            "Purchased 1 * Wet n Wild MegaGlow Highlighter\n",
            "Customer your Total Amount: NPR 2450\n",
            "\n",
            "Thank you for shopping with us!\n",
            "----- Aliza&Kusum PrettyClick Store\n"
          ]
        }
      ]
    },
    {
      "cell_type": "code",
      "source": [],
      "metadata": {
        "id": "3KiNOjKw2hXS"
      },
      "execution_count": null,
      "outputs": []
    }
  ]
}