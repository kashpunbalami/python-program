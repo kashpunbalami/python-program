{
  "nbformat": 4,
  "nbformat_minor": 0,
  "metadata": {
    "colab": {
      "provenance": [],
      "authorship_tag": "ABX9TyMhIXStzLX2t4lnV+/0iigF",
      "include_colab_link": true
    },
    "kernelspec": {
      "name": "python3",
      "display_name": "Python 3"
    },
    "language_info": {
      "name": "python"
    }
  },
  "cells": [
    {
      "cell_type": "markdown",
      "metadata": {
        "id": "view-in-github",
        "colab_type": "text"
      },
      "source": [
        "<a href=\"https://colab.research.google.com/github/kashpunbalami/python-program/blob/main/LiscenseManagement.ipynb\" target=\"_parent\"><img src=\"https://colab.research.google.com/assets/colab-badge.svg\" alt=\"Open In Colab\"/></a>"
      ]
    },
    {
      "cell_type": "markdown",
      "source": [
        "Liscense Management System"
      ],
      "metadata": {
        "id": "hTmST8bUt3E1"
      }
    },
    {
      "cell_type": "markdown",
      "source": [
        "Register, voucher, witten exam, if pass trial exam, voucher genereation, exit"
      ],
      "metadata": {
        "id": "5SePM8SwvT-q"
      }
    },
    {
      "cell_type": "code",
      "execution_count": null,
      "metadata": {
        "colab": {
          "base_uri": "https://localhost:8080/",
          "height": 533
        },
        "id": "qCQ3eI-KsFHl",
        "outputId": "d52add25-5b5e-404a-bbea-745a3342b1d1"
      },
      "outputs": [
        {
          "output_type": "stream",
          "name": "stdout",
          "text": [
            "Liscense Managment Board\n",
            "1. Register liscense\n",
            "2. Initial voucher to attend exam\n",
            "3. Written Exam\n",
            "4. Trial Exam\n",
            "5. Final Voucher\n",
            "6. Exit System\n",
            "Enter on which panel you want to go5\n",
            "Generating voucher\n"
          ]
        },
        {
          "output_type": "error",
          "ename": "KeyboardInterrupt",
          "evalue": "Interrupted by user",
          "traceback": [
            "\u001b[0;31m---------------------------------------------------------------------------\u001b[0m",
            "\u001b[0;31mKeyboardInterrupt\u001b[0m                         Traceback (most recent call last)",
            "\u001b[0;32m<ipython-input-16-f7118f887aed>\u001b[0m in \u001b[0;36m<cell line: 16>\u001b[0;34m()\u001b[0m\n\u001b[1;32m     74\u001b[0m   \u001b[0;32melif\u001b[0m \u001b[0mchoose\u001b[0m \u001b[0;34m==\u001b[0m \u001b[0;36m5\u001b[0m\u001b[0;34m:\u001b[0m\u001b[0;34m\u001b[0m\u001b[0;34m\u001b[0m\u001b[0m\n\u001b[1;32m     75\u001b[0m     \u001b[0mprint\u001b[0m\u001b[0;34m(\u001b[0m\u001b[0;34m\"Generating voucher\"\u001b[0m\u001b[0;34m)\u001b[0m\u001b[0;34m\u001b[0m\u001b[0;34m\u001b[0m\u001b[0m\n\u001b[0;32m---> 76\u001b[0;31m     \u001b[0mitu\u001b[0m \u001b[0;34m=\u001b[0m \u001b[0minput\u001b[0m\u001b[0;34m(\u001b[0m\u001b[0;34m\"Enter pass if you have passed all examination\"\u001b[0m\u001b[0;34m)\u001b[0m\u001b[0;34m\u001b[0m\u001b[0;34m\u001b[0m\u001b[0m\n\u001b[0m\u001b[1;32m     77\u001b[0m     \u001b[0;32mif\u001b[0m \u001b[0;32mnot\u001b[0m \u001b[0mRegister\u001b[0m\u001b[0;34m[\u001b[0m\u001b[0;34m'Tpass'\u001b[0m\u001b[0;34m]\u001b[0m\u001b[0;34m:\u001b[0m\u001b[0;34m\u001b[0m\u001b[0;34m\u001b[0m\u001b[0m\n\u001b[1;32m     78\u001b[0m       \u001b[0mprint\u001b[0m\u001b[0;34m(\u001b[0m\u001b[0;34m\"You have Failed on some of your Exam Before \"\u001b[0m\u001b[0;34m)\u001b[0m\u001b[0;34m\u001b[0m\u001b[0;34m\u001b[0m\u001b[0m\n",
            "\u001b[0;32m/usr/local/lib/python3.10/dist-packages/ipykernel/kernelbase.py\u001b[0m in \u001b[0;36mraw_input\u001b[0;34m(self, prompt)\u001b[0m\n\u001b[1;32m    849\u001b[0m                 \u001b[0;34m\"raw_input was called, but this frontend does not support input requests.\"\u001b[0m\u001b[0;34m\u001b[0m\u001b[0;34m\u001b[0m\u001b[0m\n\u001b[1;32m    850\u001b[0m             )\n\u001b[0;32m--> 851\u001b[0;31m         return self._input_request(str(prompt),\n\u001b[0m\u001b[1;32m    852\u001b[0m             \u001b[0mself\u001b[0m\u001b[0;34m.\u001b[0m\u001b[0m_parent_ident\u001b[0m\u001b[0;34m,\u001b[0m\u001b[0;34m\u001b[0m\u001b[0;34m\u001b[0m\u001b[0m\n\u001b[1;32m    853\u001b[0m             \u001b[0mself\u001b[0m\u001b[0;34m.\u001b[0m\u001b[0m_parent_header\u001b[0m\u001b[0;34m,\u001b[0m\u001b[0;34m\u001b[0m\u001b[0;34m\u001b[0m\u001b[0m\n",
            "\u001b[0;32m/usr/local/lib/python3.10/dist-packages/ipykernel/kernelbase.py\u001b[0m in \u001b[0;36m_input_request\u001b[0;34m(self, prompt, ident, parent, password)\u001b[0m\n\u001b[1;32m    893\u001b[0m             \u001b[0;32mexcept\u001b[0m \u001b[0mKeyboardInterrupt\u001b[0m\u001b[0;34m:\u001b[0m\u001b[0;34m\u001b[0m\u001b[0;34m\u001b[0m\u001b[0m\n\u001b[1;32m    894\u001b[0m                 \u001b[0;31m# re-raise KeyboardInterrupt, to truncate traceback\u001b[0m\u001b[0;34m\u001b[0m\u001b[0;34m\u001b[0m\u001b[0m\n\u001b[0;32m--> 895\u001b[0;31m                 \u001b[0;32mraise\u001b[0m \u001b[0mKeyboardInterrupt\u001b[0m\u001b[0;34m(\u001b[0m\u001b[0;34m\"Interrupted by user\"\u001b[0m\u001b[0;34m)\u001b[0m \u001b[0;32mfrom\u001b[0m \u001b[0;32mNone\u001b[0m\u001b[0;34m\u001b[0m\u001b[0;34m\u001b[0m\u001b[0m\n\u001b[0m\u001b[1;32m    896\u001b[0m             \u001b[0;32mexcept\u001b[0m \u001b[0mException\u001b[0m \u001b[0;32mas\u001b[0m \u001b[0me\u001b[0m\u001b[0;34m:\u001b[0m\u001b[0;34m\u001b[0m\u001b[0;34m\u001b[0m\u001b[0m\n\u001b[1;32m    897\u001b[0m                 \u001b[0mself\u001b[0m\u001b[0;34m.\u001b[0m\u001b[0mlog\u001b[0m\u001b[0;34m.\u001b[0m\u001b[0mwarning\u001b[0m\u001b[0;34m(\u001b[0m\u001b[0;34m\"Invalid Message:\"\u001b[0m\u001b[0;34m,\u001b[0m \u001b[0mexc_info\u001b[0m\u001b[0;34m=\u001b[0m\u001b[0;32mTrue\u001b[0m\u001b[0;34m)\u001b[0m\u001b[0;34m\u001b[0m\u001b[0;34m\u001b[0m\u001b[0m\n",
            "\u001b[0;31mKeyboardInterrupt\u001b[0m: Interrupted by user"
          ]
        }
      ],
      "source": [
        "print(\"Liscense Managment Board\")\n",
        "\n",
        "Register = {\n",
        "    'Name': [],\n",
        "    'Age': [],\n",
        "    'Fathers_Name': [],\n",
        "    \"Mothers_Name\": [],\n",
        "    'Category': [],\n",
        "    'Blood_Group': [],\n",
        "    'T': [],\n",
        "    'Pass' : [],\n",
        "    'Tpass': []\n",
        "\n",
        "}\n",
        "\n",
        "while True:\n",
        "  print(\"1. Register liscense\")\n",
        "  print(\"2. Initial voucher to attend exam\")\n",
        "  print(\"3. Written Exam\")\n",
        "  print(\"4. Trial Exam\")\n",
        "  print(\"5. Final Voucher\")\n",
        "  print(\"6. Exit System\")\n",
        "\n",
        "  choose = int(input(\"Enter on which panel you want to go\"))\n",
        "\n",
        "  if choose == 1:\n",
        "    print(\"Welcome to Registration segment\")\n",
        "    name = input(\"Enter your name: \")\n",
        "    age = int(input(\"Enter your age: \"))\n",
        "    fathers_name = input(\"Enter your Fathers name: \")\n",
        "    Mothers_name = input(\"Enter your mothers Name\")\n",
        "    Category = input(\"Enter category you want to apply\\n 1.A for motorbike \\n 2.B for car \\n 3.C for scooter\")\n",
        "    blood_group = input(\"Enter your blood group\")\n",
        "    if age >= 18:\n",
        "      Register['Name'].append(name)\n",
        "      Register['Age'].append(age)\n",
        "      Register['Fathers_Name'].append(fathers_name)\n",
        "      Register['Mothers_Name'].append(Mothers_name)\n",
        "      Register['Category'].append(Category)\n",
        "      Register['Blood_Group'].append(blood_group)\n",
        "    else:\n",
        "      print(\"Unable to register due to under age\")\n",
        "      break\n",
        "\n",
        "  elif choose == 2:\n",
        "    n = input(\"Enter name you registered: \")\n",
        "    if not Register[\"Name\"]:\n",
        "      print(\"Not Registered\")\n",
        "    else:\n",
        "      print(\"Your Voucher is: \")\n",
        "      print(f\"Name:{Register['Name']}, Age:{Register['Age']}, Category:{Register['Category']} \")\n",
        "      T = input(\"Enter T if you have taken your voucher\")\n",
        "      Register['T'].append(T)\n",
        "      print(\"All the best for written Exam\")\n",
        "\n",
        "\n",
        "  elif choose == 3:\n",
        "    ne = input(\"Enter T if you took Voucher\")\n",
        "    if not Register['T']:\n",
        "      print(\"Unable to give written Exam \")\n",
        "    else:\n",
        "      D = input(\"Enter pass if you have passed the exam\")\n",
        "      Register['Pass'].append(D)\n",
        "\n",
        "  elif choose == 4:\n",
        "    print(\"Welcome to Trial Exam\")\n",
        "    nu = input(\"Enter pass to prove you have passed Writtern Exam: \")\n",
        "    if not Register['Pass']:\n",
        "      print(\"Try again Next time after 2 weeks from failed date: \")\n",
        "    else:\n",
        "      E = input(\"Enter pass if you passed Trial Exam: \")\n",
        "      Register['Tpass'].append(E)\n",
        "\n",
        "  elif choose == 5:\n",
        "    print(\"Generating voucher\")\n",
        "    itu = input(\"Enter pass if you have passed all examination\")\n",
        "    if not Register['Tpass']:\n",
        "      print(\"You have Failed on some of your Exam Before \")\n",
        "    else:\n",
        "      print(\"Your Voucher below:\")\n",
        "      print(f\"Name: {Register['Name']}\\n Age: {Register['Age']}\\n Father_name: {Register['Fathers_Name']} \\n Mother_name: {Register['Mothers_Name']} \\n Category: {Register['Category']} \\n Blood group: {Register['Blood_Group']}\")\n",
        "    break\n",
        "\n",
        "  elif choose == 6:\n",
        "    print(\"You have choosed Exit option Thank you!!!!\")\n",
        "    break"
      ]
    },
    {
      "cell_type": "code",
      "source": [],
      "metadata": {
        "id": "-A0-wqI7u6ra"
      },
      "execution_count": null,
      "outputs": []
    }
  ]
}