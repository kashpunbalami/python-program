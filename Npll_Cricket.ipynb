{
  "nbformat": 4,
  "nbformat_minor": 0,
  "metadata": {
    "colab": {
      "provenance": [],
      "authorship_tag": "ABX9TyMrxVuO/Rr1n225JKHel+SB",
      "include_colab_link": true
    },
    "kernelspec": {
      "name": "python3",
      "display_name": "Python 3"
    },
    "language_info": {
      "name": "python"
    }
  },
  "cells": [
    {
      "cell_type": "markdown",
      "metadata": {
        "id": "view-in-github",
        "colab_type": "text"
      },
      "source": [
        "<a href=\"https://colab.research.google.com/github/kashpunbalami/python-program/blob/main/Npll_Cricket.ipynb\" target=\"_parent\"><img src=\"https://colab.research.google.com/assets/colab-badge.svg\" alt=\"Open In Colab\"/></a>"
      ]
    },
    {
      "cell_type": "markdown",
      "source": [
        "I've built a solid foundation for a Cricket Match Management System! By using the CricketMatch class, I've successfully encapsulated all the essential details of a cricket match, including:\n",
        "\n",
        "    Team Information: Storing both Team A and Team B and their respective player rosters.\n",
        "    Match Progression: Tracking the scores for both teams and the total overs played.\n",
        "    Match Outcome: Clearly identifying the winner of the match.\n",
        "\n",
        "My implementation demonstrates a good understanding of Object-Oriented Programming (OOP) principles. Specifically, I've incorporated key functionalities within my class:\n",
        "\n",
        "    Score Management: The ability to set and update team scores directly within the match object.\n",
        "    Automated Winner Determination: A function that automatically determines the winner based on the recorded scores, which is crucial for efficient match management.\n",
        "    Clear Display of Information: The use of f-strings to display match details ensures a user-friendly and well-formatted output of all the relevant information.\n",
        "\n",
        "By simulating a match and displaying the results, I've shown that my CricketMatch class effectively handles and presents the dynamics of a cricket game. This project provides a great starting point for a more comprehensive cricket league management system."
      ],
      "metadata": {
        "id": "BN73o-jBxxI4"
      }
    },
    {
      "cell_type": "code",
      "execution_count": null,
      "metadata": {
        "id": "nG2uGNYrHPBO"
      },
      "outputs": [],
      "source": [
        "class Team:\n",
        "  def __init__(self, teams, players):\n",
        "    self.teams = teams\n",
        "    self.players = players\n",
        "\n",
        "  def show_match(self):\n",
        "    print(f\"Welcome to match between {self.teams[0]} and {self.teams[1]}\")\n",
        "    print(f\"{self.teams[0]} lineups are: \")\n",
        "    for i in range(11):\n",
        "      print(f\"{self.players[i]}\")\n",
        "    print(f\"{self.teams[1]} lineups are: \")\n",
        "    for i in range(11, 22):\n",
        "      print(f\"lineup are {self.players[i]}\")\n",
        "class Clash(Team):\n",
        "  def __init__(self, teams, players, over, score):\n",
        "    super().__init__(teams, players)\n",
        "    self.over = over\n",
        "    self.score = score\n",
        "\n",
        "  def winner(self):\n",
        "    if self.score[0]<720 and self.score[1]<720:\n",
        "      if self.score[0] > self.score[1]:\n",
        "        print(f\"Congratulations {self.teams[0]} on winning NPL 2024 :):):):):) \")\n",
        "        print(\"Congratulations your winner prize is Rs.11.1 million:):):):):)\")\n",
        "        print(f\"Congratulations {self.teams[1]} on runner up of NPL tounament :):):):)):) \")\n",
        "        print(\"Congratulations your runner up prize is Rs.5 million:):):):):))\")\n",
        "      elif self.score[0] < self.score[1]:\n",
        "        print(f\"Congratulations {self.teams[1]} on winning NPL 2024:):):):):):) \")\n",
        "        print(\"Congratulations your winner prize is Rs.11.1 million:):):):):):)\")\n",
        "        print(f\"Congratulations {self.teams[0]} on runner up of NPL tounament :):):):):):):):) \")\n",
        "        print(\"Congratulations your runner up prize is Rs.5 million:):):):):):):):):):)\")\n",
        "      elif self.score[0] == self.score[1]:\n",
        "        print(\"Match is on tie\")\n",
        "        print(\"Rematch of NPL begins \")\n",
        "    else:\n",
        "      print(\"Invalid Score :( \")\n",
        "\n",
        "\n",
        "\n"
      ]
    },
    {
      "cell_type": "code",
      "source": [
        "\n",
        "team = []\n",
        "fname = input(\"Enter first team name: \")\n",
        "sname = input(\"Enter second team name: \")\n",
        "team.append(fname)\n",
        "team.append(sname)\n",
        "\n",
        "player = []\n",
        "for i in range(1,12):\n",
        "  p = input(f\"Enter player name of {fname}:\")\n",
        "  player.append(p)\n",
        "for i in range(1,12):\n",
        "  p = input(f\"Enter player name of {sname}: \")\n",
        "  player.append(p)\n",
        "\n",
        "t = Team(team, player)  #object variable\n",
        "t.show_match() #function of first class\n",
        "\n",
        "score = []\n",
        "sc1 = int(input(f\"Enter score of {fname}: \"))\n",
        "sc2 = int(input(f\"Enter score of {sname}: \"))\n",
        "score.append(sc1)\n",
        "score.append(sc2)\n",
        "\n",
        "over = []\n",
        "ov1 = int(input(f\"Enter overs played by {fname}: \"))\n",
        "ov2 = int(input(f\"Enter overs played by {sname}: \"))\n",
        "over.append(ov1)\n",
        "over.append(ov2)\n",
        "\n",
        "c = Clash(team, player, over, score)\n",
        "c.winner()"
      ],
      "metadata": {
        "colab": {
          "base_uri": "https://localhost:8080/"
        },
        "id": "o6rbTOaEKIoK",
        "outputId": "6daf4b38-c5f9-4232-e44b-5a4b1e9fc8ee"
      },
      "execution_count": null,
      "outputs": [
        {
          "output_type": "stream",
          "name": "stdout",
          "text": [
            "Enter first team name: Kathmandu Gurkhas\n",
            "Enter second team name: Karnali Yaks\n",
            "Enter player name of Kathmandu Gurkhas:aslkdsa\n",
            "Enter player name of Kathmandu Gurkhas:llasdh\n",
            "Enter player name of Kathmandu Gurkhas:dlsdf\n",
            "Enter player name of Kathmandu Gurkhas:lsdfn\n",
            "Enter player name of Kathmandu Gurkhas:lsadkn\n",
            "Enter player name of Kathmandu Gurkhas:asfd\n",
            "Enter player name of Kathmandu Gurkhas:fs\n",
            "Enter player name of Kathmandu Gurkhas:sadf\n",
            "Enter player name of Kathmandu Gurkhas:sdfa\n",
            "Enter player name of Kathmandu Gurkhas:sda\n",
            "Enter player name of Kathmandu Gurkhas:safd\n",
            "Enter player name of Karnali Yaks: dsf\n",
            "Enter player name of Karnali Yaks: sdaf\n",
            "Enter player name of Karnali Yaks: fsad\n",
            "Enter player name of Karnali Yaks: dasf\n",
            "Enter player name of Karnali Yaks: dsfa\n",
            "Enter player name of Karnali Yaks: wefa\n",
            "Enter player name of Karnali Yaks: dsfa\n",
            "Enter player name of Karnali Yaks: ewfa\n",
            "Enter player name of Karnali Yaks: fwea\n",
            "Enter player name of Karnali Yaks: faew\n",
            "Enter player name of Karnali Yaks: fewa\n",
            "Welcome to match between Kathmandu Gurkhas and Karnali Yaks\n",
            "Kathmandu Gurkhas lineups are: \n",
            "aslkdsa\n",
            "llasdh\n",
            "dlsdf\n",
            "lsdfn\n",
            "lsadkn\n",
            "asfd\n",
            "fs\n",
            "sadf\n",
            "sdfa\n",
            "sda\n",
            "safd\n",
            "Karnali Yaks lineups are: \n",
            "lineup are dsf\n",
            "lineup are sdaf\n",
            "lineup are fsad\n",
            "lineup are dasf\n",
            "lineup are dsfa\n",
            "lineup are wefa\n",
            "lineup are dsfa\n",
            "lineup are ewfa\n",
            "lineup are fwea\n",
            "lineup are faew\n",
            "lineup are fewa\n",
            "Enter score of Kathmandu Gurkhas: 312\n",
            "Enter score of Karnali Yaks: 314\n",
            "Enter overs played by Kathmandu Gurkhas: 15\n",
            "Enter overs played by Karnali Yaks: 16\n",
            "Congratulations Karnali Yaks on winning NPL 2024:):):):):):) \n",
            "Congratulations your winner prize is Rs.11.1 million:):):):):):)\n",
            "Congratulations Kathmandu Gurkhas on runner up of NPL tounament :):):):):):):):) \n",
            "Congratulations your runner up prize is Rs.5 million:):):):):):):):):):)\n"
          ]
        }
      ]
    },
    {
      "cell_type": "code",
      "source": [
        "sa"
      ],
      "metadata": {
        "id": "Niu7O17_On_m"
      },
      "execution_count": null,
      "outputs": []
    },
    {
      "cell_type": "code",
      "source": [],
      "metadata": {
        "id": "JVqYPJ8AeeaW"
      },
      "execution_count": null,
      "outputs": []
    }
  ]
}