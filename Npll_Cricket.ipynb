{
  "nbformat": 4,
  "nbformat_minor": 0,
  "metadata": {
    "colab": {
      "provenance": [],
      "authorship_tag": "ABX9TyP0Se6tkprqYdTMqXUGDCol",
      "include_colab_link": true
    },
    "kernelspec": {
      "name": "python3",
      "display_name": "Python 3"
    },
    "language_info": {
      "name": "python"
    }
  },
  "cells": [
    {
      "cell_type": "markdown",
      "metadata": {
        "id": "view-in-github",
        "colab_type": "text"
      },
      "source": [
        "<a href=\"https://colab.research.google.com/github/kashpunbalami/python-program/blob/main/Npll_Cricket.ipynb\" target=\"_parent\"><img src=\"https://colab.research.google.com/assets/colab-badge.svg\" alt=\"Open In Colab\"/></a>"
      ]
    },
    {
      "cell_type": "markdown",
      "source": [
        "Kashpun Kumar Balami"
      ],
      "metadata": {
        "id": "TRFnvt9iHR9h"
      }
    },
    {
      "cell_type": "markdown",
      "source": [
        "Assignment 8"
      ],
      "metadata": {
        "id": "KVDSDAaiHVM7"
      }
    },
    {
      "cell_type": "markdown",
      "source": [
        "Cricket Match Management System\n",
        "Scenario Description:\n",
        "Imagine you are creating a Cricket Match Management System for a cricket league in Nepal. This system will help record and display details of a cricket match, including teams, players, scores, and the winner. Your task is to design this system using Object-Oriented Programming (OOP) principles.\n",
        "\n",
        "Problem Statement:\n",
        "Create a class CricketMatch to represent the details of a cricket match.\n",
        "Each match should store:\n",
        "The teams playing (Team A and Team B).\n",
        "The players of both teams (lists of names).\n",
        "The scores of both teams.\n",
        "The total overs played.\n",
        "The winner of the match.\n",
        "Include functions inside the class for:\n",
        "Setting scores for the teams.\n",
        "Determining the winner based on scores.\n",
        "Displaying match details using f-strings for formatted output.\n",
        "Use the class to simulate a match between two teams and display the results.\n",
        "Detailed Scenario for Students:\n",
        "You are tasked with building an OOP-based solution where the CricketMatch class handles all match-related information.\n",
        "Use f-strings to format the match details and results elegantly.\n",
        "Design functions within the class to:\n",
        "Set and update team scores.\n",
        "Automatically determine the winner after scores are set.\n",
        "Display the match summary in a user-friendly format."
      ],
      "metadata": {
        "id": "SV34ExyFHXHS"
      }
    },
    {
      "cell_type": "code",
      "execution_count": null,
      "metadata": {
        "id": "nG2uGNYrHPBO"
      },
      "outputs": [],
      "source": [
        "class Team:\n",
        "  def __init__(self, teams, players):\n",
        "    self.teams = teams\n",
        "    self.players = players\n",
        "\n",
        "  def show_match(self):\n",
        "    print(f\"Welcome to match between {self.teams[0]} and {self.teams[1]}\")\n",
        "    print(f\"{self.teams[0]} lineups are: \")\n",
        "    for i in range(11):\n",
        "      print(f\"{self.players[i]}\")\n",
        "    print(f\"{self.teams[1]} lineups are: \")\n",
        "    for i in range(11, 22):\n",
        "      print(f\"lineup are {self.players[i]}\")\n",
        "class Clash(Team):\n",
        "  def __init__(self, teams, players, over, score):\n",
        "    super().__init__(teams, players)\n",
        "    self.over = over\n",
        "    self.score = score\n",
        "\n",
        "  def winner(self):\n",
        "    if self.score[0]<720 and self.score[1]<720:\n",
        "      if self.score[0] > self.score[1]:\n",
        "        print(f\"Congratulations {self.teams[0]} on winning NPL 2024 :):):):):) \")\n",
        "        print(\"Congratulations your winner prize is Rs.11.1 million:):):):):)\")\n",
        "        print(f\"Congratulations {self.teams[1]} on runner up of NPL tounament :):):):)):) \")\n",
        "        print(\"Congratulations your runner up prize is Rs.5 million:):):):):))\")\n",
        "      elif self.score[0] < self.score[1]:\n",
        "        print(f\"Congratulations {self.teams[1]} on winning NPL 2024:):):):):):) \")\n",
        "        print(\"Congratulations your winner prize is Rs.11.1 million:):):):):):)\")\n",
        "        print(f\"Congratulations {self.teams[0]} on runner up of NPL tounament :):):):):):):):) \")\n",
        "        print(\"Congratulations your runner up prize is Rs.5 million:):):):):):):):):):)\")\n",
        "      elif self.score[0] == self.score[1]:\n",
        "        print(\"Match is on tie\")\n",
        "        print(\"Rematch of NPL begins \")\n",
        "    else:\n",
        "      print(\"Invalid Score :( \")\n",
        "\n",
        "\n",
        "\n"
      ]
    },
    {
      "cell_type": "code",
      "source": [
        "\n",
        "team = []\n",
        "fname = input(\"Enter first team name: \")\n",
        "sname = input(\"Enter second team name: \")\n",
        "team.append(fname)\n",
        "team.append(sname)\n",
        "\n",
        "player = []\n",
        "for i in range(1,12):\n",
        "  p = input(f\"Enter player name of {fname}:\")\n",
        "  player.append(p)\n",
        "for i in range(1,12):\n",
        "  p = input(f\"Enter player name of {sname}: \")\n",
        "  player.append(p)\n",
        "\n",
        "t = Team(team, player)  #object variable\n",
        "t.show_match() #function of first class\n",
        "\n",
        "score = []\n",
        "sc1 = int(input(f\"Enter score of {fname}: \"))\n",
        "sc2 = int(input(f\"Enter score of {sname}: \"))\n",
        "score.append(sc1)\n",
        "score.append(sc2)\n",
        "\n",
        "over = []\n",
        "ov1 = int(input(f\"Enter overs played by {fname}: \"))\n",
        "ov2 = int(input(f\"Enter overs played by {sname}: \"))\n",
        "over.append(ov1)\n",
        "over.append(ov2)\n",
        "\n",
        "c = Clash(team, player, over, score)\n",
        "c.winner()"
      ],
      "metadata": {
        "colab": {
          "base_uri": "https://localhost:8080/"
        },
        "id": "o6rbTOaEKIoK",
        "outputId": "6daf4b38-c5f9-4232-e44b-5a4b1e9fc8ee"
      },
      "execution_count": null,
      "outputs": [
        {
          "output_type": "stream",
          "name": "stdout",
          "text": [
            "Enter first team name: Kathmandu Gurkhas\n",
            "Enter second team name: Karnali Yaks\n",
            "Enter player name of Kathmandu Gurkhas:aslkdsa\n",
            "Enter player name of Kathmandu Gurkhas:llasdh\n",
            "Enter player name of Kathmandu Gurkhas:dlsdf\n",
            "Enter player name of Kathmandu Gurkhas:lsdfn\n",
            "Enter player name of Kathmandu Gurkhas:lsadkn\n",
            "Enter player name of Kathmandu Gurkhas:asfd\n",
            "Enter player name of Kathmandu Gurkhas:fs\n",
            "Enter player name of Kathmandu Gurkhas:sadf\n",
            "Enter player name of Kathmandu Gurkhas:sdfa\n",
            "Enter player name of Kathmandu Gurkhas:sda\n",
            "Enter player name of Kathmandu Gurkhas:safd\n",
            "Enter player name of Karnali Yaks: dsf\n",
            "Enter player name of Karnali Yaks: sdaf\n",
            "Enter player name of Karnali Yaks: fsad\n",
            "Enter player name of Karnali Yaks: dasf\n",
            "Enter player name of Karnali Yaks: dsfa\n",
            "Enter player name of Karnali Yaks: wefa\n",
            "Enter player name of Karnali Yaks: dsfa\n",
            "Enter player name of Karnali Yaks: ewfa\n",
            "Enter player name of Karnali Yaks: fwea\n",
            "Enter player name of Karnali Yaks: faew\n",
            "Enter player name of Karnali Yaks: fewa\n",
            "Welcome to match between Kathmandu Gurkhas and Karnali Yaks\n",
            "Kathmandu Gurkhas lineups are: \n",
            "aslkdsa\n",
            "llasdh\n",
            "dlsdf\n",
            "lsdfn\n",
            "lsadkn\n",
            "asfd\n",
            "fs\n",
            "sadf\n",
            "sdfa\n",
            "sda\n",
            "safd\n",
            "Karnali Yaks lineups are: \n",
            "lineup are dsf\n",
            "lineup are sdaf\n",
            "lineup are fsad\n",
            "lineup are dasf\n",
            "lineup are dsfa\n",
            "lineup are wefa\n",
            "lineup are dsfa\n",
            "lineup are ewfa\n",
            "lineup are fwea\n",
            "lineup are faew\n",
            "lineup are fewa\n",
            "Enter score of Kathmandu Gurkhas: 312\n",
            "Enter score of Karnali Yaks: 314\n",
            "Enter overs played by Kathmandu Gurkhas: 15\n",
            "Enter overs played by Karnali Yaks: 16\n",
            "Congratulations Karnali Yaks on winning NPL 2024:):):):):):) \n",
            "Congratulations your winner prize is Rs.11.1 million:):):):):):)\n",
            "Congratulations Kathmandu Gurkhas on runner up of NPL tounament :):):):):):):):) \n",
            "Congratulations your runner up prize is Rs.5 million:):):):):):):):):):)\n"
          ]
        }
      ]
    },
    {
      "cell_type": "code",
      "source": [
        "sa"
      ],
      "metadata": {
        "id": "Niu7O17_On_m"
      },
      "execution_count": null,
      "outputs": []
    },
    {
      "cell_type": "code",
      "source": [],
      "metadata": {
        "id": "JVqYPJ8AeeaW"
      },
      "execution_count": null,
      "outputs": []
    }
  ]
}