{
  "nbformat": 4,
  "nbformat_minor": 0,
  "metadata": {
    "colab": {
      "provenance": [],
      "authorship_tag": "ABX9TyOUmKeAv/7JJkNIea7ImXrW",
      "include_colab_link": true
    },
    "kernelspec": {
      "name": "python3",
      "display_name": "Python 3"
    },
    "language_info": {
      "name": "python"
    }
  },
  "cells": [
    {
      "cell_type": "markdown",
      "metadata": {
        "id": "view-in-github",
        "colab_type": "text"
      },
      "source": [
        "<a href=\"https://colab.research.google.com/github/kashpunbalami/python-program/blob/main/InventoryTrack.ipynb\" target=\"_parent\"><img src=\"https://colab.research.google.com/assets/colab-badge.svg\" alt=\"Open In Colab\"/></a>"
      ]
    },
    {
      "cell_type": "code",
      "execution_count": null,
      "metadata": {
        "colab": {
          "base_uri": "https://localhost:8080/"
        },
        "id": "A9JrZfLsCxn9",
        "outputId": "47259d21-a508-4812-ecb6-833d75e74735"
      },
      "outputs": [
        {
          "output_type": "stream",
          "name": "stdout",
          "text": [
            "Inventory Management System\n",
            "1. Add on System\n",
            "2. Display System Data\n",
            "3. Search on System\n",
            "4. Update on System\n",
            "5. Delete\n",
            "6. Exit\n",
            "Enter number as per your choices1\n",
            "Enter how many item you want to add1\n",
            "Enter name of item Apple\n",
            "Enter quantity of that item 4\n",
            "Apple of quantity 4 added on system\n",
            "Inventory Management System\n",
            "1. Add on System\n",
            "2. Display System Data\n",
            "3. Search on System\n",
            "4. Update on System\n",
            "5. Delete\n",
            "6. Exit\n",
            "Enter number as per your choices5\n",
            "Enter item name to delete: Apple\n",
            "Apple is deleted from the system. \n",
            "Inventory Management System\n",
            "1. Add on System\n",
            "2. Display System Data\n",
            "3. Search on System\n",
            "4. Update on System\n",
            "5. Delete\n",
            "6. Exit\n"
          ]
        }
      ],
      "source": [
        "system = {\n",
        "    'name' : [],\n",
        "    'quantity' : []\n",
        "}\n",
        "\n",
        "while True:\n",
        "  print(\"Inventory Management System\")\n",
        "  print(\"1. Add on System\")\n",
        "  print(\"2. Display System Data\")\n",
        "  print(\"3. Search on System\")\n",
        "  print(\"4. Update on System\")\n",
        "  print(\"5. Delete\")\n",
        "  print(\"6. Exit\")\n",
        "\n",
        "  choose = input(\"Enter number as per your choices\")\n",
        "\n",
        "  if choose == '1':\n",
        "    n = int(input(\"Enter how many item you want to add\"))\n",
        "    for i in range(n):\n",
        "      na = input(\"Enter name of item \")\n",
        "      qu = int(input(\"Enter quantity of that item \"))\n",
        "      system['name'].append(na)\n",
        "      system['quantity'].append(qu)\n",
        "      print(f\"{na} of quantity {qu} added on system\")\n",
        "\n",
        "  elif choose == '2':\n",
        "    print(\"Displaying items from system\")\n",
        "    print(f\"items name: {system['name']} \\n Quantity: {system['quantity']}\")\n",
        "\n",
        "  elif choose == '3':\n",
        "    search = input(\"Enter item name to search\")\n",
        "    for i in range(n):\n",
        "      if search == system['name'][i]:\n",
        "        print(f\"item name:{system['name'][i]} \\n quantity: {system['quantity'][i]}\")\n",
        "      else:\n",
        "        print(\"Items not availiable\")\n",
        "\n",
        "  elif choose == \"4\":\n",
        "    update = input(\"Enter item name to update: \")\n",
        "    for i in range(n):\n",
        "      if update == system['name'][i]:\n",
        "        nume = input(\"Enter new name for item: \")\n",
        "        qant = int(input(\"Enter new quantity for item: \"))\n",
        "        system['name'][i] = nume\n",
        "        system['quantity'][i] = qant\n",
        "\n",
        "  elif choose == '5': #For multiple case this is important\n",
        "    delete = input(\"Enter item name to delete: \")\n",
        "    found = False # It will check if the item is found or not\n",
        "    for i in range(len(system['name'])):\n",
        "      if delete == system['name'][i]:\n",
        "        system['name'].pop(i)\n",
        "        system['quantity'].pop(i)\n",
        "        found = True\n",
        "        print(f\"{delete} is deleted from the system. \")\n",
        "        break # Break after deleting to avoid further index problems\n",
        "\n",
        "    if not found:\n",
        "      print(\"Item not found in system\")\n",
        "\n",
        "  elif choose == '6':\n",
        "    print(\"Your software Exits Here!!!!\")\n",
        "    break\n",
        "\n"
      ]
    },
    {
      "cell_type": "code",
      "source": [],
      "metadata": {
        "id": "ff1atFUsC3NH"
      },
      "execution_count": null,
      "outputs": []
    }
  ]
}